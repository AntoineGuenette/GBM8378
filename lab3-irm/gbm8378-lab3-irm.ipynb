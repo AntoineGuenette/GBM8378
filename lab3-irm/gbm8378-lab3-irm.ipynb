{
 "cells": [
  {
   "cell_type": "markdown",
   "metadata": {},
   "source": [
    "## Matricule & noms : "
   ]
  },
  {
   "cell_type": "markdown",
   "metadata": {},
   "source": [
    "<div class=\"alert alert-block alert-danger\">\n",
    "Ce <a href=\"https://realpython.com/matlab-vs-python/\"> lien</a> vous permettra de voir les différences fondamentales entre Python et Matlab. Ne passez pas forcement par les étapes d'installation.\n",
    "</div>"
   ]
  },
  {
   "cell_type": "markdown",
   "metadata": {},
   "source": [
    "<div class=\"alert alert-block alert-info\">\n",
    "La cellule ci dessous effectue des <code>import</code> cela s'assimile a un<code>addpath</code> en matlab. Le but est d'amener des fonctions extérieures (packages) dans le notebook afin que Python les reconnaisse.  \n",
    "<code> import package as pkg</code> permet de raccourcir le nom de ce dernier. Les fonctions contenues dans 'package' seront alors appelées ainsi <code>pkg.function()</code><br>\n",
    "    \n",
    "Vous pouvez chercher sur google chacun des package appelés ci-dessous afin d'obtenir leur documentation.<br>\n",
    "\n",
    "N'oubliez pas de relancer cette cellule si jamais vous redemarrez le Kernel !!\n",
    "</div>"
   ]
  },
  {
   "cell_type": "code",
   "execution_count": null,
   "metadata": {},
   "outputs": [],
   "source": [
    "import nibabel as nib\n",
    "import pydicom as pycd\n",
    "import matplotlib.pyplot as plt\n",
    "import math\n",
    "import dicom\n",
    "from numpy.fft import *\n",
    "from numpy import matlib as mb\n",
    "import numpy as np\n",
    "import copy\n",
    "from niwidgets import NiftiWidget\n",
    "import nilearn.plotting as nip\n",
    "\n",
    "%matplotlib inline"
   ]
  },
  {
   "cell_type": "markdown",
   "metadata": {},
   "source": [
    "## Partie I : Concepts d'imagerie"
   ]
  },
  {
   "cell_type": "markdown",
   "metadata": {},
   "source": [
    "<div class=\"alert alert-block alert-info\">  \n",
    "\n",
    "#### 1. Lecture de l’image DICOM\n",
    "\n",
    "Les images issues du système IRM sont sous format DICOM (extension .dcm). DICOM est un standard de fichier en imagerie médicale (pas seulement pour l'IRM, mais aussi pour le PET, CT, US, etc.). Les fichiers DICOM incluent un header qui contient des informations ou \"metadata\" sur l'acquisition des images (e.g., date de l'examen, modèle d'IRM, TR, TE, angle de flip, position des slices, etc.), suivi de l'image encodée en binaire. Une image 3D est sauvegardée sous plusieurs tranches, i.e. plusieurs fichiers DICOM.\n",
    "    \n",
    "Ci-dessous, nous analyserons le contenu du fichier DICOM <code>FourierTransform_Test01-03-0011.dcm</code>, notamment nous afficherons l'image et nous analyserons quelques champs des metadata.\n",
    "</div>"
   ]
  },
  {
   "cell_type": "code",
   "execution_count": null,
   "metadata": {},
   "outputs": [],
   "source": [
    "# La ligne ci-dessous sert à lire l'image DICOM et à la mettre dans la variable dcm\n",
    "dcm = dicom.read_file('dicom/FourierTransform_Test01-03-0011.dcm', force=True)\n",
    "\n",
    "# L'attribut \"pixel_array\" sert à récupérer l'image (i.e. matrice 2d)\n",
    "image = dcm.pixel_array\n",
    "\n",
    "# Afficher l'image\n",
    "plt.figure(figsize=(10,10))\n",
    "plt.imshow(image)\n",
    "plt.show()"
   ]
  },
  {
   "cell_type": "markdown",
   "metadata": {},
   "source": [
    "<div class=\"alert alert-block alert-warning\">\n",
    "\n",
    "A) Quelle est la largeur de la coupe (en z) ? Quelle est l'unité ? 1pt\n",
    "    \n",
    "Pour afficher le contenu d'une variable en Python, vous pouvez utiliser la fonction <code>print(dcm)</code>. \n",
    "    \n",
    "Sélectionner ensuite le champ pertinent : <code>dcm.CHAMP</code>\n",
    "\n",
    "<b>ATTENTION:</b> Les espaces doivent être enlevés pour appeler le champ. Exemple: <code>\"Study Date\" --> dcm.StudyDate</code>\n",
    "</div>"
   ]
  },
  {
   "cell_type": "code",
   "execution_count": null,
   "metadata": {
    "scrolled": false
   },
   "outputs": [],
   "source": [
    "# Utilisez cette cellule pour votre code. Commentez les lignes pertinentes."
   ]
  },
  {
   "cell_type": "markdown",
   "metadata": {},
   "source": [
    "<div class=\"alert alert-block alert-success\">\n",
    "    \n",
    "**double click here to add your answer**\n",
    "\n",
    "</div>"
   ]
  },
  {
   "cell_type": "markdown",
   "metadata": {},
   "source": [
    "<div class=\"alert alert-block alert-warning\">\n",
    "\n",
    "B) Étant donné que nous imageons des protons 1H et que le champ est 3 teslas, estimez\n",
    "approximativement la valeur du gradient magnétique qui est imposé en z pour former une\n",
    "tranche de cette largeur si nous supposons que la largeur de bande de l’impulsion RF est\n",
    "de 1 kHz. \n",
    "\n",
    "2pts\n",
    "</div>"
   ]
  },
  {
   "cell_type": "code",
   "execution_count": null,
   "metadata": {},
   "outputs": [],
   "source": [
    "# Utilisez cette cellule pour effectuer vos calculs. Commentez les lignes pertinentes."
   ]
  },
  {
   "cell_type": "markdown",
   "metadata": {},
   "source": [
    "<div class=\"alert alert-block alert-success\">\n",
    "    \n",
    "**double click here to add your answer**\n",
    "\n",
    "</div>\n"
   ]
  },
  {
   "cell_type": "markdown",
   "metadata": {},
   "source": [
    "<div class=\"alert alert-block alert-info\">\n",
    "    \n",
    "#### 2. Analyse de Fourier <br>\n",
    "Rappelons que le signal acquis en IRM est en fait la transformée de Fourier de l’image (voir les équations 13.46 et 13.47 du livre de Prince & Links). L’image du cerveau qu’on affiche est donc la transformée inverse des données.<br>\n",
    "    \n",
    "Le code ci-dessous permet d'ouvrir l'image de phase et d'afficher l'image de magnitude et de phase. Pour plus d'information visiter la page de la <a href=\"https://matplotlib.org/\">documentation ici.</a>\n",
    "</div>"
   ]
  },
  {
   "cell_type": "code",
   "execution_count": null,
   "metadata": {},
   "outputs": [],
   "source": [
    "# On ouvre l'image de phase\n",
    "dcm_phase = dicom.read_file('dicom/FourierTransform_Test01-04-0011.dcm', force=True)\n",
    "image_phase = dcm_phase.pixel_array\n",
    "\n",
    "#  Display. Le package utilisé est matplotlib.pyplot qui a été importé en tant que plt. Nous appelons donc les fonction plt.fonction\n",
    "plt.figure(figsize = (10, 10))  # plt.figure permet de décrire l'image. \"figsize\" détermine la taille de la figure.\n",
    "plt.subplot(1, 2, 1)  # permet de créer un subplot. La numerotation est la suivante (nb_colonne,nb_lignes,index) \n",
    "# L'indexation commence a 1 et va de gauche a droite et de haut en bas. \n",
    "plt.imshow(image)  # équivalent de la fonction imagesc\n",
    "plt.title('Image de magnitude')  # le titre s'applique a l'objet subplot, en l'occurence le dernier existant. \n",
    "plt.subplot(1, 2, 2)\n",
    "plt.imshow(image_phase, cmap=\"jet\")\n",
    "plt.title('Image de phase')\n",
    "plt.show()  # permet d'afficher l'image."
   ]
  },
  {
   "cell_type": "markdown",
   "metadata": {},
   "source": [
    "<div class=\"alert alert-block alert-info\">\n",
    "Les limitations d’acquisition liées au phénomène de Nyquist s’opèrent ici dans l’espace\n",
    "des fréquences spatiales. Pour étudier ce phénomène suivez les instructions ci dessous :<br>\n",
    "● Faites la transformée de Fourier 2D (fonction <code>fft2</code>) de l’image de magnitude <code>FourierTransform_Test01-03-0011.dcm</code>.<br>\n",
    "● Sous-échantillonnez cette transformée par un facteur 2 selon les deux axes (u et v).\n",
    "Pour conserver la taille de la matrice (256x256), remplacer une ligne sur deux par des 0.<br>   \n",
    "● Faites la transformée inverse.<br>\n",
    "</div>"
   ]
  },
  {
   "cell_type": "markdown",
   "metadata": {},
   "source": [
    "<div class=\"alert alert-block alert-danger\">\n",
    "<b>ATTENTION:</b> En python l'indexation commence à 0.\n",
    "\n",
    "Les matrices sont definies comme suit <code>m=[[0,0],[1,1]]</code>. Ceci donne une matrice avec une premiere ligne de 0 et une seconde ligne de 1.\n",
    "\n",
    "L'equivalent de <code>repmat</code> en Python se trouve dans <code>numpy.matlib</code>, que nous avons importé comme : <code>mb</code>. La fonction est donc : <code>mb.repmat(m,Nb_ligne,Nb_colonne)</code>\n",
    "\n",
    "Pour notre matrice 'm' la taille peut être obtenue à l'aide de <code>m.shape</code> qui renverra (2,2).<br>\n",
    "Les fonctions de type <code>abs,real</code> Peuvent être utilisées comme en Matlab. \n",
    "</div>"
   ]
  },
  {
   "cell_type": "markdown",
   "metadata": {},
   "source": [
    "<div class=\"alert alert-block alert-warning\">\n",
    "2.2. Illustrez l’image ainsi obtenue. Comparez-la avec l’image originale. Expliquez le\n",
    "phénomène observé et sa cause. \n",
    "\n",
    "3pts\n",
    "    </div>"
   ]
  },
  {
   "cell_type": "code",
   "execution_count": null,
   "metadata": {},
   "outputs": [],
   "source": [
    "# Ajoutez votre code ici. Commentez les lignes pertinentes."
   ]
  },
  {
   "cell_type": "markdown",
   "metadata": {},
   "source": [
    "<div class=\"alert alert-block alert-warning\">\n",
    "Recommencez avec l’image originale :\n",
    "\n",
    "- Faites sa transformée de Fourier 2D.\n",
    "\n",
    "- Sous-échantillonnez cette transformée par un facteur 2 selon les deux axes (u et v).\n",
    "Cette fois-ci, retirez un élément sur deux (en u et v, donc 1 ligne sur 2 et 1 colonne\n",
    "sur 2). Vous diminuerez donc de moitié la taille de votre matrice dans chaque\n",
    "dimension.\n",
    "\n",
    "- Faites la transformée inverse.\n",
    "\n",
    "Illustrez l’image ainsi obtenue. Comparez-la avec l’image originale et avec\n",
    "l’image reconstruite à la question 2.2. Expliquez les différences observées. 3pts\n",
    "  </div>"
   ]
  },
  {
   "cell_type": "markdown",
   "metadata": {},
   "source": [
    "<div class=\"alert alert-block alert-danger\">\n",
    "Pour faire cela regardez les possibilités de <code>slicing</code> en Python. ce <a href=\"https://dev.to/duomly/what-is-slicing-in-python-58f2\">tutorial</a> vous permettra de voir les bases. Cependant vous êtes encouragé à chercher sur internet.\n",
    "Il est également possible de proposer une version plus algorithmique.\n",
    "</div>"
   ]
  },
  {
   "cell_type": "code",
   "execution_count": null,
   "metadata": {},
   "outputs": [],
   "source": [
    "# Ajoutez votre code ici. Commentez les lignes pertinentes."
   ]
  },
  {
   "cell_type": "markdown",
   "metadata": {},
   "source": [
    "<div class=\"alert alert-block alert-success\">\n",
    "    \n",
    "**double click here to add your answer**\n",
    "\n",
    "</div>"
   ]
  },
  {
   "cell_type": "markdown",
   "metadata": {},
   "source": [
    "<div class=\"alert alert-block alert-warning\">\n",
    "2.3. Comment l’acquisition dans l’espace Fourier affecte la résolution spatiale de l'image ? Décrire l'équation qui régit la résolution spatiale en fonction des paramètres d'instrumentation de l'IRM. Quelles sont les contraintes d'instrumentation et de sécurité/confort du patient qui limitent la résolution spatiale ? \n",
    "\n",
    "3pts\n",
    "</div>"
   ]
  },
  {
   "cell_type": "markdown",
   "metadata": {},
   "source": [
    "<div class=\"alert alert-block alert-success\">\n",
    "    \n",
    "**double click here to add your answer**\n",
    "\n",
    "</div>"
   ]
  },
  {
   "cell_type": "markdown",
   "metadata": {},
   "source": [
    "<div class=\"alert alert-block alert-info\">\n",
    "  \n",
    "#### 3. Artéfacts\n",
    "Cette section a pour but de vous faire simuler 2 artéfacts qui peuvent survenir de manière assez\n",
    "fréquente lors de l’acquisition d’une image par résonance magnétique : artefact de « spiking » et artefact de mouvement.<br></div>\n",
    "<div class=\"alert alert-block alert-warning\">\n",
    "3.1.1. <b>Artefact de Spiking</b>. Décrivez une procédure permettant de simuler un artéfact « spiking » à partir d’une image déjà reconstruite. Comment cet artéfact affecte-t-il l’image finale ? \n",
    "\n",
    "1.5pts\n",
    "</div>"
   ]
  },
  {
   "cell_type": "markdown",
   "metadata": {},
   "source": [
    "<div class=\"alert alert-block alert-success\">\n",
    "    \n",
    "**double click here to add your answer**\n",
    "\n",
    "</div>"
   ]
  },
  {
   "cell_type": "markdown",
   "metadata": {},
   "source": [
    "<div class=\"alert alert-block alert-warning\">\n",
    "    3.1.2. Implémentez cette procédure en utilisant <code>FourierTransform_Test01-03-0011.dcm</code> et simulez trois types de spiking artefacts : horizontal, vertical et oblique.  1.5pts\n",
    "</div>"
   ]
  },
  {
   "cell_type": "markdown",
   "metadata": {},
   "source": [
    "<div class=\"alert alert-block alert-danger\">\n",
    "<b>ATTENTION : Comment copier une matrice d'une variable vers une autre variable dans Python.</b>\n",
    "\n",
    "Illustration avec le code suivant :\n",
    "    \n",
    "    a = [0, 0]\n",
    "    b = a\n",
    "    b[0] = 1\n",
    "    print(a[0])\n",
    "    >> 1  # au lieu de 0 !!!\n",
    "\n",
    "Cela est dû au fait que cette opération repose sur des pointeurs.<br>\n",
    "La solution pour éviter cela est d'utiliser la fonction <code>deepcopy</code> : \n",
    "\n",
    "    import copy\n",
    "    b = copy.deepcopy(a)\n",
    "\n",
    "Cela pourra vous être utile pour copier la matrice afin de simuler plusieurs artefacts.\n",
    "Si vous souhaitez revenir dans le k-space, utilisez une transformée de Fourier inverse :\n",
    "\n",
    "    ifft2\n",
    "\n",
    "Ne pas oublier de prendre en compte le shift. \n",
    "</div>"
   ]
  },
  {
   "cell_type": "code",
   "execution_count": null,
   "metadata": {},
   "outputs": [],
   "source": [
    "# Ajoutez votre code ici. Commentez les lignes pertinentes."
   ]
  },
  {
   "cell_type": "markdown",
   "metadata": {},
   "source": [
    "<div class=\"alert alert-block alert-info\">\n",
    "3.2.1. <b>Artefact de mouvement</b>. Toujours à partir de la même image, observez l'effet d'un mouvement de l'image sur sa transformée de Fourier :\n",
    "    \n",
    "- Décalez votre image de 10 pixels (fonction <code>np.roll</code> dont vous trouverez la documentation <a href='https://docs.scipy.org/doc/numpy/reference/generated/numpy.roll.html'>ici</a>).\n",
    "- Calculez le k-space de l’image originale et de l’image décalée\n",
    "    </div>"
   ]
  },
  {
   "cell_type": "code",
   "execution_count": null,
   "metadata": {},
   "outputs": [],
   "source": [
    "# Ajoutez votre code ici. Commentez les lignes pertinentes."
   ]
  },
  {
   "cell_type": "markdown",
   "metadata": {},
   "source": [
    "<div class=\"alert alert-block alert-warning\">\n",
    "Observez-vous une différence sur la magnitude du k-space? Sur la phase du\n",
    "k-space? Commentez (indiquez aussi pourquoi la phase du k-space est en « arc\n",
    "en ciel »).\n",
    "\n",
    "2pts\n",
    "    </div>"
   ]
  },
  {
   "cell_type": "markdown",
   "metadata": {},
   "source": [
    "<div class=\"alert alert-block alert-success\">\n",
    "    \n",
    "**double click here to add your answer**\n",
    "\n",
    "</div>"
   ]
  },
  {
   "cell_type": "markdown",
   "metadata": {},
   "source": [
    "<div class=\"alert alert-block alert-warning\">\n",
    "3.2.2. Décrivez une procédure permettant de simuler un artéfact correspondant à un\n",
    "mouvement global du patient en cours d’acquisition. \n",
    "\n",
    "1pt\n",
    "</div>"
   ]
  },
  {
   "cell_type": "markdown",
   "metadata": {},
   "source": [
    "<div class=\"alert alert-block alert-success\">\n",
    "    \n",
    "**double click here to add your answer**\n",
    "\n",
    "</div>"
   ]
  },
  {
   "cell_type": "markdown",
   "metadata": {},
   "source": [
    "<div class=\"alert alert-block alert-warning\">\n",
    "  3.2.3. Implémentez cette procédure pour un mouvement de 10 pixels dans la direction de votre\n",
    "choix. Considérez deux cas : (i) la deuxième moitié du k-space est affectée par le\n",
    "mouvement et (ii) une ligne du k-space sur deux est affectée par le mouvement.<br>\n",
    "Expliquez vos résultats.\n",
    "\n",
    "2pts\n",
    "    </div>\n"
   ]
  },
  {
   "cell_type": "code",
   "execution_count": null,
   "metadata": {},
   "outputs": [],
   "source": [
    "# Ajoutez votre code ici. Commentez les lignes pertinentes."
   ]
  },
  {
   "cell_type": "markdown",
   "metadata": {},
   "source": [
    "## Partie II : IRM anatomique"
   ]
  },
  {
   "cell_type": "markdown",
   "metadata": {},
   "source": [
    "<div class=\"alert alert-block alert-info\">\n",
    "    \n",
    "#### 4. Étude de l'image anatomique \n",
    "D'autres formats d'images sont souvent utilisés en IRM, par exemple le format NIfTI (.nii).\n",
    "\n",
    "Chargez l’image anatomique <code>anat/mprage.nii.gz</code> en utilisant <code>nib.load</code>.<br> \n",
    "</div>"
   ]
  },
  {
   "cell_type": "code",
   "execution_count": null,
   "metadata": {},
   "outputs": [],
   "source": [
    "nii = nib.load('anat/mprage.nii.gz')"
   ]
  },
  {
   "cell_type": "markdown",
   "metadata": {},
   "source": [
    "<div class=\"alert alert-block alert-warning\">\n",
    "\n",
    "4.1. Il s’agit d’une image à 3 dimensions. Quelle est le nombre de voxels dans chacune des\n",
    "dimensions ? Quelle est la taille de chaque voxel (en mm) ? Indice : regarder la\n",
    "structure de pixdim dans nii.header \n",
    "\n",
    "1pt\n",
    "    </div>"
   ]
  },
  {
   "cell_type": "markdown",
   "metadata": {},
   "source": [
    "<div class=\"alert alert-block alert-danger\">\n",
    "<code>nib.load</code> renvoie un <b>objet</b> nifti constitué d'un header et de l'image. Utilisez <code>objet.header</code> pour acceder au header et <code>object.dataobj</code> pour acceder au données d'image.\n",
    "</div>"
   ]
  },
  {
   "cell_type": "code",
   "execution_count": null,
   "metadata": {},
   "outputs": [],
   "source": [
    "# Ajoutez votre code ici. Commentez les lignes pertinentes."
   ]
  },
  {
   "cell_type": "markdown",
   "metadata": {},
   "source": [
    "<div class=\"alert alert-block alert-success\">\n",
    "    \n",
    "**double click here to add your answer**\n",
    "\n",
    "</div>"
   ]
  },
  {
   "cell_type": "markdown",
   "metadata": {},
   "source": [
    "<div class=\"alert alert-block alert-info\">\n",
    "Visualisez l’image à l'aide de la cellule ci-dessous. Cette image a été prise avec une séquence 3D de type\n",
    "écho de gradient (gradient echo). Le TR est très faible (inférieur à 10ms), il s’agit donc d’une image pondérée en T1. Un pulse d’inversion-récupération prépare les spins afin d’augmenter le contraste entre les tissus\n",
    "(suppression du liquide cérébrospinal). Le nom de cette séquence est « MPRAGE ».\n",
    "</div>"
   ]
  },
  {
   "cell_type": "markdown",
   "metadata": {},
   "source": [
    "<div class=\"alert alert-block alert-warning\">\n",
    "4.2. Faites une capture d'écran (screenshot) de la vue axiale (seulement la vue axiale).\n",
    "Quelle est cette structure noire située aux coordonnées (-10, -22, 28) ? Quelle stratégie\n",
    "a permis d’annuler le signal pour cette structure ? 2pts<br>\n",
    "    </div>\n",
    "\n",
    "<div class=\"alert alert-block alert-danger\">\n",
    "Vous pouvez vous deplacer sur l'image à l'aide de la souris.\n",
    "En cas de problème avec le viewer (l'image apparait hachée), cliquez sur une des vues correctes et cela reviendra à la normale.\n",
    "</div>"
   ]
  },
  {
   "cell_type": "code",
   "execution_count": null,
   "metadata": {
    "scrolled": false
   },
   "outputs": [],
   "source": [
    "# Visualiser l'image en utilisant nilearn plotting\n",
    "nip.view_img(nii, cut_coords=[0, 0, 0], title=\"anatomical image\", cmap=\"gray\", symmetric_cmap=False, bg_black=True, bg_image=False)"
   ]
  },
  {
   "cell_type": "markdown",
   "metadata": {},
   "source": [
    "<div class=\"alert alert-block alert-success\">\n",
    "    \n",
    "**double click here to add your answer**\n",
    "\n",
    "</div>"
   ]
  },
  {
   "cell_type": "markdown",
   "metadata": {},
   "source": [
    "<div class=\"alert alert-block alert-warning\">\n",
    "4.3. A quoi correspond le petit blob gris aux coordonnées (56,68,28) ? \n",
    "\n",
    "2pts\n",
    "</div>"
   ]
  },
  {
   "cell_type": "markdown",
   "metadata": {},
   "source": [
    "<div class=\"alert alert-block alert-success\">\n",
    "    \n",
    "**double click here to add your answer**\n",
    "\n",
    "</div>"
   ]
  },
  {
   "cell_type": "markdown",
   "metadata": {},
   "source": [
    "<div class=\"alert alert-block alert-warning\">\n",
    "4.4. Observez la structure très brillante aux coordonnées (-2,-6,-14). Il s’agit de <a href=\"https://en.wikipedia.org/wiki/Basilar_artery\">l’artère\n",
    "basilaire</a>. Pourquoi le\n",
    "signal de celle-ci n’a pas été supprimé comme en 4.2? \n",
    "\n",
    "2pts\n",
    "</div>"
   ]
  },
  {
   "cell_type": "markdown",
   "metadata": {},
   "source": [
    "<div class=\"alert alert-block alert-success\">\n",
    "    \n",
    "**double click here to add your answer**\n",
    "\n",
    "</div>"
   ]
  },
  {
   "cell_type": "markdown",
   "metadata": {},
   "source": [
    "## Partie III : IRM fonctionnelle (IRMf ou fMRI)"
   ]
  },
  {
   "cell_type": "markdown",
   "metadata": {},
   "source": [
    "<div class=\"alert alert-block alert-info\">\n",
    "    \n",
    "#### 5. Étude des images fonctionnelles\n",
    "Nous allons étudier l'image <code>fmri.nii</code>\n",
    "\n",
    "La particularité de ce fichier est qu’il s’agit d’une image 4D (versus 3D pour l’image anatomique).\n",
    "Les dimensions (x,y,z,t) de l’image sont : 64×64×21×180. Cela implique qu’il y a 180 volumes 3D,\n",
    "un volume étant mesuré toutes les TR secondes. Ici, le temps de répétition TR = 3 secondes .\n",
    "    \n",
    "La séquence utilisée pour acquérir ces volumes est une séquence en écho de gradient, pondérée\n",
    "en T2\\*, utilisant la technique echo planar imaging (EPI). L’intérêt d’utiliser la technique EPI est\n",
    "d’obtenir un volume du cerveau complet très rapidement. Ici, chaque volume est acquis en\n",
    "seulement 3 secondes !! Par comparaison, le volume anatomique précédent a été acquis en 5\n",
    "minutes. Bien sûr, la qualité d’image est moindre.\n",
    "    \n",
    "Affichons l'image.\n",
    "</div>"
   ]
  },
  {
   "cell_type": "code",
   "execution_count": null,
   "metadata": {},
   "outputs": [],
   "source": [
    "# Afficher l'image en utilisant NiftiWidget.nifti_plotter().\n",
    "# Note: Utilisez les sliders pour vous déplacer. Une fois que vous avez cliqué sur un slider, vous pouvez utiliser\n",
    "# les flèches gauche/droite pour bouger le slider.\n",
    "fmri_widget = NiftiWidget('fmri/fmri.nii.gz')\n",
    "fmri_widget.nifti_plotter(colormap='nipy_spectral', display_mode=['ortho', 'xz'])"
   ]
  },
  {
   "cell_type": "markdown",
   "metadata": {},
   "source": [
    "<div class=\"alert alert-block alert-warning\">\n",
    "5.1.1 Comment se fait-il que le cerveau apparaisse \"applati\" dans la direction supérieure-inférieure ?\n",
    "    \n",
    "Tips: Étudiez le header de l'image NIfTI en l'ouvrant avec nibabel.\n",
    "</div>"
   ]
  },
  {
   "cell_type": "code",
   "execution_count": null,
   "metadata": {},
   "outputs": [],
   "source": [
    "# Ajoutez votre code ici. Commentez les lignes pertinentes."
   ]
  },
  {
   "cell_type": "markdown",
   "metadata": {},
   "source": [
    "<div class=\"alert alert-block alert-warning\">\n",
    "5.1. Citez deux caractéristiques montrant que la qualité des images EPI est inférieure à celle\n",
    "de l’image anatomique. Vous pouvez par exemple comparer l’image anatomique avec\n",
    "celle d'EPI et montrer la présence d’artefacts (préciser le type d’artefact). \n",
    "\n",
    "3pts\n",
    "</div>"
   ]
  },
  {
   "cell_type": "markdown",
   "metadata": {},
   "source": [
    "<div class=\"alert alert-block alert-success\">\n",
    "    \n",
    "**double click here to add your answer**\n",
    "\n",
    "</div>"
   ]
  },
  {
   "cell_type": "markdown",
   "metadata": {},
   "source": [
    "<div class=\"alert alert-block alert-info\">\n",
    "L’utilité d’acquérir autant de volumes à la suite est de tester la présence d’une activité neuronale\n",
    "lorsqu’une tâche motrice, sensorielle ou cognitive est effectuée par le sujet pendant l’acquisition.\n",
    "Cette expérience s’appelle IRM fonctionnelle. La beauté de cette technique est qu’elle permet\n",
    "de localiser spatialement l’origine de l’activité neuronale. La précision de cette localisation\n",
    "dépend donc de la résolution spatiale des volumes EPI (ici, 4×4×6 mm^3) ainsi que du couplage neurovasculaire.\n",
    "    \n",
    "La façon de procéder est la suivante. Pendant l’acquisition des nombreux volumes, le sujet est\n",
    "soumis à une activité fonctionnelle (passive ou active). On appelle cette période « ON ». Durant\n",
    "ces périodes, l'activation des neurones suscite un afflux sanguin qui influence le signal IRMf\n",
    "localement, dans la région activée du cerveau. Afin de pouvoir discriminer l’impact des périodes\n",
    "ON sur les images, Il est important d’avoir aussi des périodes dites « OFF », pendant lesquelles\n",
    "le sujet est au repos et ne subit aucune activité contrôlée. La succession des périodes ON et\n",
    "OFF correspond au « paradigme » de l’expérience IRMf.    \n",
    "</div>"
   ]
  },
  {
   "cell_type": "markdown",
   "metadata": {},
   "source": [
    "<div class=\"alert alert-block alert-warning\">\n",
    "5.2. Comme mentionné plus haut, le paradigme IRMf est composé de N cycles \"ON-OFF\". Trouvez N.\n",
    "\n",
    "1pt\n",
    "    </div>\n"
   ]
  },
  {
   "cell_type": "code",
   "execution_count": null,
   "metadata": {},
   "outputs": [],
   "source": [
    "# Ajoutez votre code ici. Commentez les lignes pertinentes."
   ]
  },
  {
   "cell_type": "markdown",
   "metadata": {},
   "source": [
    "<div class=\"alert alert-block alert-warning\">\n",
    "5.3. Extraire le décours temporel ( time course ) des voxels suivants :\n",
    "\n",
    "    [34,34,18]\n",
    "    [26,14,8]\n",
    "    [34,34,13]\n",
    "    [44,26,9]\n",
    "    [30,52,10]\n",
    "    [44,18,11]\n",
    "    \n",
    "Afficher les décours sur le même plot. Ne pas oublier les unités. Quel est le voxel où\n",
    "l’activité neuronale semble avoir lieu ?\n",
    "2pts\n",
    "    </div>"
   ]
  },
  {
   "cell_type": "code",
   "execution_count": null,
   "metadata": {
    "scrolled": true
   },
   "outputs": [],
   "source": [
    "# Ajoutez votre code ici. Commentez les lignes pertinentes."
   ]
  },
  {
   "cell_type": "markdown",
   "metadata": {
    "collapsed": true
   },
   "source": [
    "<div class=\"alert alert-block alert-info\">\n",
    "Nous allons maintenant partir à la recherche de l’activité neuronale... Pour cela, nous souhaitons savoir de façon exhaustive où l’activité neuronale a eu lieu. Nous pourrions continuer la méthode d’identification comme réalisé en 5.2 pour tous les voxels du volume, mais cela reviendrait à identifier manuellement nx × ny × nz voxels, soit 86016 voxels !! Par ailleurs il serait souhaitable d’utiliser une approche davantage ​quantitative que celle utilisée précédemment, qui se basait sur notre jugement. Utilisons notre cerveau pour trouver une façon plus efficace d’étudier le cerveau !\n",
    "Une approche communément utilisée est de construire une carte statistique qui teste, pour\n",
    "chaque voxel, la correspondance temporelle entre le paradigme et le décours temporel. \n",
    "    \n",
    "<br>\n",
    "Une façon de faire est de moyenner le signal pendant la période ON et pendant la période OFF, puis\n",
    "de faire la différence entre ces deux moyennes. Cette différence sera ensuite divisée par l’écart\n",
    "type du signal. Cela revient à calculer le rapport contraste à bruit (CNR) de l’activité neuronale\n",
    "pour chaque voxel .\n",
    "     </div>"
   ]
  },
  {
   "cell_type": "code",
   "execution_count": null,
   "metadata": {},
   "outputs": [],
   "source": [
    "# On charge le fichier et on récupère les données images\n",
    "nii_fmri = nib.load('fmri/fmri.nii.gz')\n",
    "image_fmri = np.array(nii_fmri.dataobj)\n",
    "# On moyenne sur la 4e dimension (le temps)\n",
    "data_mean = np.mean(image_fmri, axis=3)\n",
    "# On crée un nouvel objet nibabel\n",
    "nii_mean = nib.Nifti1Image(data_mean, np.eye(4), header=nii_fmri.header)\n",
    "# On sauvegarde en fichier NIfTI\n",
    "nib.save(nii_mean, 'fmri/fmri_mean.nii')\n",
    "nip.view_img(nii_mean, cut_coords=[32, 26, 12], title=\"fmri mean\", cmap='gray', symmetric_cmap=False, bg_img=False, black_bg=True)"
   ]
  },
  {
   "cell_type": "markdown",
   "metadata": {},
   "source": [
    "<div class=\"alert alert-block alert-warning\">\n",
    "5.4. Calculez une carte (valeur à chaque voxel) de CNR de l’activité neuronale et sauvegardez cette carte en fichier NIfTI.\n",
    "    \n",
    "3pts\n",
    "    </div>"
   ]
  },
  {
   "cell_type": "code",
   "execution_count": null,
   "metadata": {},
   "outputs": [],
   "source": [
    "# Ajoutez votre code ici. Commentez les lignes pertinentes.\n",
    "# Tips: Pour sauvegarder votre carte de CNR, utilisez: \n",
    "# >> nii_cnr = nib.Nifti1Image(abs(CNR_map), np.eye(4), header=nii_fmri.header)\n",
    "# >> nib.save(nii_cnr, 'fmri/CNR_map.nii')"
   ]
  },
  {
   "cell_type": "markdown",
   "metadata": {},
   "source": [
    "<div class=\"alert alert-block alert-warning\">\n",
    "5.5. Afficher la carte de CNR en superposition de l'EPI moyenne.\n",
    "    \n",
    "2pts\n",
    "    </div>"
   ]
  },
  {
   "cell_type": "code",
   "execution_count": null,
   "metadata": {},
   "outputs": [],
   "source": [
    "# Ajoutez votre code ici. Commentez les lignes pertinentes.\n",
    "# Tips: Pour afficher deux images en superposition, utilisez:\n",
    "# >> nip.view_img(PATH_TO_FOREGROUND_IMAGE, threshold=1.5, cut_coords=[33, 33, 14], title=\"CNR overlaid on fMRI\", cmap=\"OrRd\", bg_img=PATH_TO_BACKGROUND_IMAGE, symmetric_cmap=False, black_bg=True)"
   ]
  },
  {
   "cell_type": "markdown",
   "metadata": {},
   "source": [
    "<div class=\"alert alert-block alert-warning\">\n",
    "5.6. On peut considérer que les changements hémodynamiques induits par l’activité neuronale sont étalés sur plusieurs voxels voisins. Décrire une méthode permettant d’augmenter le CNR pour détecter l’activité neuronale (2 lignes max).\n",
    "    \n",
    "2pts\n",
    "    </div>"
   ]
  },
  {
   "cell_type": "markdown",
   "metadata": {},
   "source": [
    "<div class=\"alert alert-block alert-success\">\n",
    "    \n",
    "**double click here to add your answer**\n",
    "\n",
    "</div>"
   ]
  },
  {
   "cell_type": "markdown",
   "metadata": {},
   "source": [
    "<div class=\"alert alert-block alert-info\">\n",
    "Le cortex est organisé en régions topologiques fonctionnelles, i.e., une zone corticale correspond à une fonction. Par exemple le lobe temporal situé en arrière du cerveau sera responsable de la mémoire, alors que le lobe pariétal sera responsable de l’activité motrice, etc. Historiquement, le «mapping» des fonctions corticales avait commencé avec Wilfried Penfield, au <b>Montreal Neurological Institute</b>. Alors qu’il étudiait des patients épileptiques avec des électrodes implantées, Dr. Penfield a pu identifier la localisation des aires somato-sensorielles. Dr. Brodmann a poursuivi ces travaux en proposant un atlas des fonctions du cerveau, encore utilisé aujourd’hui.\n",
    "    </div>"
   ]
  },
  {
   "cell_type": "markdown",
   "metadata": {},
   "source": [
    "<div class=\"alert alert-block alert-warning\">\n",
    "5.7. À partir de la carte statistique ci-dessous, retrouver le type de stimulation qui a été utilisé pour cette expérience d’IRM\n",
    "fonctionnelle. Pour cela, utilisez l’atlas interactif de <a href='http://www.fmriconsulting.com/brodmann/Interact.html'>Brodmann</a> , qui relie aire corticale et\n",
    "fonction. Aucun code n’est nécessaire. \n",
    "    \n",
    "2pts\n",
    "    <img src=\"fmri/fmri_result_template.png\" alt=\"fmri_map\">\n",
    "    </div>\n"
   ]
  },
  {
   "cell_type": "markdown",
   "metadata": {},
   "source": [
    "<div class=\"alert alert-block alert-success\">\n",
    "    \n",
    "**double click here to add your answer**\n",
    "\n",
    "</div>"
   ]
  },
  {
   "cell_type": "markdown",
   "metadata": {},
   "source": [
    "<div class=\"alert alert-block alert-warning\">\n",
    "5.8. Précédemment, nous avons utilisé une méthode temporelle pour identifier la localisation de\n",
    "l’activité neuronale, i.e., basée sur la phase des transitions ON/OFF.\n",
    "\n",
    "Décrire une autre façon d’obtenir une carte de l’activité fonctionnelle, utilisant la\n",
    "transformée de Fourier. \n",
    "    \n",
    "1pt\n",
    "</div>"
   ]
  },
  {
   "cell_type": "markdown",
   "metadata": {},
   "source": [
    "<div class=\"alert alert-block alert-success\">\n",
    "    \n",
    "**double click here to add your answer**\n",
    "\n",
    "</div>"
   ]
  },
  {
   "cell_type": "markdown",
   "metadata": {},
   "source": [
    "## Partie IV : IRM de diffusion"
   ]
  },
  {
   "cell_type": "markdown",
   "metadata": {},
   "source": [
    "<div class=\"alert alert-block alert-info\">\n",
    "    \n",
    "#### 6. Etudes d’images de diffusion <br>\n",
    "Travaillez à présent dans le dossier <code>diffusion/fantomes_fibres</code>. Ce dossier comporte les 4\n",
    "données d’une acquisition pondérée en diffusion réalisée sur un fantôme synthétique. Le fantôme est décrit dans le fichier <a href='https://drive.google.com/file/d/1xp7O8X50dHVPlmzqYFHi-u11d5tCXFAB/view?usp=sharing'> ici</a>.\n",
    "\n",
    "Les données ont été enregistrées dans le format NIFTI, dans le fichier <code>dwi.nii.gz</code>. Comme pour les images fMRI, il s’agit d’un volume 4D 96x48x1x65. La dimension est de 1 dans la direction Z car il s’agit d’une seule coupe axiale du fantôme. Nous avons 65 volumes dans la 4e dimension, qui ont été acquis avec différentes directions d’encodage de diffusion, i.e. direction de gradient de diffusion. L'information de direction des gradients de diffusion se trouve dans le fichier <code>bvecs.txt</code>.\n",
    "    </div>"
   ]
  },
  {
   "cell_type": "markdown",
   "metadata": {},
   "source": [
    "<div class=\"alert alert-block alert-warning\">\n",
    "6.1 Rappelez brièvement comment est encodée la diffusion en IRM.\n",
    "\n",
    "3pts\n",
    "</div>"
   ]
  },
  {
   "cell_type": "markdown",
   "metadata": {},
   "source": [
    "<div class=\"alert alert-block alert-success\">\n",
    "    \n",
    "**double click here to add your answer**\n",
    "\n",
    "</div>"
   ]
  },
  {
   "cell_type": "markdown",
   "metadata": {},
   "source": [
    "<div class=\"alert alert-block alert-warning\">\n",
    "6.2 Chargez et affichez le volume avec <code>nifti_plotter()</code> (voir code plus haut). Vous pouvez naviguer entre les différents volumes grâce au curseur “t” (correspondant à chaque ligne des bvecs). \n",
    "\n",
    "Certains volumes présentent beaucoup plus de signal que d'autres. Lesquels, et à quoi cela est-il dû ?\n",
    "\n",
    "2pts \n",
    "</div>"
   ]
  },
  {
   "cell_type": "code",
   "execution_count": null,
   "metadata": {},
   "outputs": [],
   "source": [
    "# Ajoutez votre code ici. Commentez les lignes pertinentes."
   ]
  },
  {
   "cell_type": "markdown",
   "metadata": {},
   "source": [
    "<div class=\"alert alert-block alert-warning\">\n",
    "6.3 Affichez deux volumes sur une ligne (en utilisant subplot). À gauche: sans encodage de diffusion, à droite : avec un encodage dans la direction verticale. \n",
    "\n",
    "2pts \n",
    "</div>"
   ]
  },
  {
   "cell_type": "code",
   "execution_count": null,
   "metadata": {},
   "outputs": [],
   "source": [
    "# Ajoutez votre code ici. Commentez les lignes pertinentes."
   ]
  },
  {
   "cell_type": "markdown",
   "metadata": {},
   "source": [
    "<div class=\"alert alert-block alert-info\">\n",
    "Grâce aux nombreuses directions d'encodage de diffusion acquisent ici, on peut résoudre les 6 inconnues du tenseur de diffusion [D], voxel par voxel. Ce tenseur représente l’ellipsoïde de diffusion, et permet d’indiquer la direction des fibres du tissue dans ce voxel (voir cours) :\n",
    "</div>"
   ]
  },
  {
   "cell_type": "markdown",
   "metadata": {},
   "source": [
    "<div class=\"alert alert-block alert-warning\">\n",
    "<img src=\"diffusion/theorie_diffusion.png\" alt=\"theorie_diffusion\">\n",
    "</div>"
   ]
  },
  {
   "cell_type": "markdown",
   "metadata": {},
   "source": [
    "<div class=\"alert alert-block alert-warning\">\n",
    "6.4 Les 65 directions $\\vec{u}$ sont listées dans le fichier <b>bvecs.txt</b> (utilisez <code>load('bvecs.txt')</code>). Ecrivez un script permettant de trouver les 6 inconnues Dxx, Dyy, ... du tenseur de diffusion voxel par voxel.\n",
    "\n",
    "Tips: \n",
    "\n",
    "- Les lignes nulles de la matrice u correspondent aux images b=0 (i.e. pas d'encodage de diffusion).\n",
    "- Développez $\\vec{u}^{T}.D.\\vec{u}$ dans l'équation pour retrouver une équation linéaire de la forme : \n",
    "$y=H.d$, avec $d=[Dxx Dyy Dzz Dxy Dxz Dyz]^T$\n",
    "- Résoudre cette équation surdéterminée voxel par voxel (voir “pseudo-solution” sur\n",
    "internet)\n",
    "     </div>"
   ]
  },
  {
   "cell_type": "code",
   "execution_count": null,
   "metadata": {},
   "outputs": [],
   "source": [
    "# Ajoutez votre code ici. Commentez les lignes pertinentes."
   ]
  },
  {
   "cell_type": "markdown",
   "metadata": {},
   "source": [
    "<div class=\"alert alert-block alert-info\">\n",
    "Si vous n'avez pas pu faire la question précédente, nous avons résolu l’équation voxel par voxel. Les éléments du tenseur de diffusion ont été stocké dans le ficher <b>DxxDyyDzzDxyDxzDyz.nii</b>. Ce fichier a donc de 4 dimensions : 96x48x1x6. La 4e dimension correspond au 6 éléments du tenseurs $[Dxx, Dyy, Dzz, Dxy, Dxz, Dyz]$ (en $mm^2/s$).\n",
    " </div>"
   ]
  },
  {
   "cell_type": "markdown",
   "metadata": {},
   "source": [
    "<div class=\"alert alert-block alert-warning\">\n",
    "6.5 Diagonalisez le tenseur de diffusion voxel par voxel pour trouver le vecteur de diffusion principal $\\vec{v_p}$ , ainsi que le coefficient de diffusion dans cette direction $\\vec{L_p}$ . Affichez\n",
    "une image montrant la direction des fibres pondéré par $\\vec{L_p}$.\n",
    "\n",
    "2pts\n",
    "</div>"
   ]
  },
  {
   "cell_type": "code",
   "execution_count": null,
   "metadata": {
    "scrolled": true
   },
   "outputs": [],
   "source": [
    "# Ajoutez votre code ici. Commentez les lignes pertinentes.\n",
    "# \n",
    "# Tips:\n",
    "# - np.linalg.eig sert à diagonaliser le tenseur et récupérer les valeurs et vecteurs propres.\n",
    "# - np.diag(a) sert à créer une matrice diagonale avec le vecteur a comme valeur sur la diagonale.\n",
    "# - np.multiply(a, b) est l'equivalent python de a.*b en matlab.\n",
    "# - np.divide(a, b) est l'equivalent python de a./b en matlab\n",
    "# - plt.quiver sert à tracer les direction. Voir documentation : https://matplotlib.org/api/_as_gen/matplotlib.pyplot.quiver.html."
   ]
  },
  {
   "cell_type": "markdown",
   "metadata": {},
   "source": [
    "<div class=\"alert alert-block alert-warning\">\n",
    "6.6. Interprétez l'image ainsi obtenue\n",
    "\n",
    "2pts\n",
    "    </div>"
   ]
  },
  {
   "cell_type": "markdown",
   "metadata": {},
   "source": [
    "<div class=\"alert alert-block alert-success\">\n",
    "    \n",
    "**double click here to add your answer**\n",
    "\n",
    "</div>"
   ]
  },
  {
   "cell_type": "markdown",
   "metadata": {},
   "source": [
    "<div class=\"alert alert-block alert-warning\">\n",
    "6.7. A quoi correspondent les vecteurs propres et les valeurs propres associées?\n",
    "    \n",
    "1pt\n",
    "    </div>"
   ]
  },
  {
   "cell_type": "markdown",
   "metadata": {},
   "source": [
    "<div class=\"alert alert-block alert-success\">\n",
    "    \n",
    "**double click here to add your answer**\n",
    "\n",
    "</div>"
   ]
  },
  {
   "cell_type": "markdown",
   "metadata": {},
   "source": [
    "<div class=\"alert alert-block alert-warning\">\n",
    "    6.8. Appliquez votre script à la coupe axiale et coronale de\n",
    "    cerveau présent dans le dossier <b>diffusion/brain</b>. Ici, nous ne vous avons pas fourni\n",
    "$[Dxx, Dyy, Dzz, Dxy, Dxz, Dyz]$. Il vous faut donc :\n",
    "    \n",
    "- Normaliser cette nouvelle images par les images b=0.\n",
    "    \n",
    "- Calculer le vecteur $[Dxx, Dyy, Dzz, Dxy, Dxz, Dyz]$ à l'aide des équations\n",
    "    \n",
    "- Appliquer le script developpé a la question 6.5 sur ce nouveau vecteur.\n",
    "    \n",
    "3pts\n",
    "    </div>"
   ]
  },
  {
   "cell_type": "code",
   "execution_count": null,
   "metadata": {},
   "outputs": [],
   "source": [
    "# Ajoutez votre code ici. Commentez les lignes pertinentes.\n",
    "# \n",
    "# Tips:\n",
    "# - np.matmul()  permet d'effectuer une multiplication matricielle.\n",
    "# - np.transpose()  permet d'obtenir la transposée d'une matrice.\n",
    "# - np.linalg.pinv()  permet d'obtenir l'inverse d'une matrice non carrée en python avec numpy. \n",
    "# - np.log()  permet d'appliquer la fonction logaritmique à tout les éléments d'un vecteur.\n",
    "# - np.squeeze()  est l'equivalent de la fonction squeeze en matlab."
   ]
  },
  {
   "cell_type": "markdown",
   "metadata": {},
   "source": [
    "<div class=\"alert alert-block alert-warning\"> \n",
    "6.9. Pouvez-vous nommer quelques structures que vous avez mises en évidence ?\n",
    "\n",
    "2pts\n",
    "</div>"
   ]
  },
  {
   "cell_type": "markdown",
   "metadata": {},
   "source": [
    "<div class=\"alert alert-block alert-success\">\n",
    "    \n",
    "**double click here to add your answer**\n",
    "\n",
    "</div>"
   ]
  }
 ],
 "metadata": {
  "kernelspec": {
   "display_name": "Python 3",
   "language": "python",
   "name": "python3"
  },
  "language_info": {
   "codemirror_mode": {
    "name": "ipython",
    "version": 3
   },
   "file_extension": ".py",
   "mimetype": "text/x-python",
   "name": "python",
   "nbconvert_exporter": "python",
   "pygments_lexer": "ipython3",
   "version": "3.6.5"
  }
 },
 "nbformat": 4,
 "nbformat_minor": 2
}
